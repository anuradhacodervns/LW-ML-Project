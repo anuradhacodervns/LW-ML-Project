import pandas as pd
import numpy as np
from sklearn.model_selection import train_test_split
from sklearn.preprocessing import StandardScaler, OneHotEncoder
from sklearn.impute import SimpleImputer
from sklearn.compose import ColumnTransformer
from sklearn.pipeline import Pipeline
from sklearn.utils import shuffle

def automatic_data_processing(file_path, target_column):
    # Step 1: Load the dataset
    df = pd.read_csv(file_path)
    
    # Step 2: Shuffle the dataset to ensure randomness
    df = shuffle(df, random_state=42)
    
    # Step 3: Separate features and target variable
    X = df.drop(columns=[target_column])
    y = df[target_column]

    # Step 4: Identify numerical and categorical columns
    numeric_features = X.select_dtypes(include=[np.number]).columns
    categorical_features = X.select_dtypes(include=['object', 'category']).columns

    # Step 5: Create pipelines for processing numerical and categorical data
    numeric_transformer = Pipeline(steps=[
        ('imputer', SimpleImputer(strategy='mean')),  # Handle missing values by replacing with mean
        ('scaler', StandardScaler())  # Scale the features
    ])

    categorical_transformer = Pipeline(steps=[
        ('imputer', SimpleImputer(strategy='most_frequent')),  # Handle missing values by replacing with the most frequent value
        ('onehot', OneHotEncoder(handle_unknown='ignore'))  # One-hot encode the categorical features
    ])

    # Step 6: Combine processing steps into a ColumnTransformer
    preprocessor = ColumnTransformer(
        transformers=[
            ('num', numeric_transformer, numeric_features),
            ('cat', categorical_transformer, categorical_features)
        ])

    # Step 7: Apply the transformations to the dataset
    X_processed = preprocessor.fit_transform(X)

    # Step 8: Split the dataset into training and testing sets
    X_train, X_test, y_train, y_test = train_test_split(X_processed, y, test_size=0.2, random_state=42)

    print("Data processing complete!")
    print(f"Training set shape: {X_train.shape}")
    print(f"Test set shape: {X_test.shape}")

    return X_train, X_test, y_train, y_test, preprocessor

# Example usage
file_path = "path/to/your/dataset.csv"
target_column = "target_column_name"
X_train, X_test, y_train, y_test, preprocessor = automatic_data_processing(file_path, target_column)
